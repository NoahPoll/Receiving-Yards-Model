{
 "cells": [
  {
   "cell_type": "markdown",
   "id": "ad97bd5e",
   "metadata": {},
   "source": [
    "# NFL Receiver's Yardage -- A Machine Learning Model\n",
    "    \n",
    "\n",
    "## Objectives\n",
    "\n",
    "* Use scikit-learn to implement Multiple Linear Regression in an NFL context\n",
    "* Create a model, train it, test it and use the model to predict future receiver performance\n"
   ]
  },
  {
   "cell_type": "markdown",
   "id": "04033f41",
   "metadata": {},
   "source": [
    "<h1>Table of contents</h1>\n",
    "\n",
    "<div class=\"alert alert-block alert-info\" style=\"margin-top: 20px\">\n",
    "    <ol>\n",
    "        <li><a href=\"#understanding-data\">Understanding the Data</a></li>\n",
    "        <li><a href=\"#multiple_regression_model\">Multiple Regression Machine Learning Model</a></li>\n",
    "        <li><a href=\"#prediction\">Prediction</a></li>\n",
    "    </ol>\n",
    "</div>\n",
    "<br>\n",
    "<hr>\n"
   ]
  },
  {
   "cell_type": "markdown",
   "id": "6c104d08",
   "metadata": {},
   "source": [
    "### Importing Needed packages"
   ]
  },
  {
   "cell_type": "code",
   "execution_count": 2,
   "id": "5feda4e9",
   "metadata": {},
   "outputs": [],
   "source": [
    "import matplotlib.pyplot as plt\n",
    "import pandas as pd\n",
    "import pylab as pl\n",
    "import numpy as np\n",
    "%matplotlib inline"
   ]
  },
  {
   "cell_type": "markdown",
   "id": "6ad213a9",
   "metadata": {},
   "source": [
    "### Data Source\n",
    "The data in this project is found at https://github.com/nflverse/nflverse-data/releases/tag/player_stats\n"
   ]
  },
  {
   "cell_type": "markdown",
   "id": "1e7956e6",
   "metadata": {},
   "source": [
    "\n",
    "<h2 id=\"understanding_data\">Understanding the Data</h2>\n",
    "<a id=\"understanding-data\"></a>\n",
    "\n",
    "### `player_stats.csv`:\n",
    "I have downloaded an NFL player dataset, **`player_stats.csv`**, which contains various game stats for NFL players from 1999 to 2023. \n",
    "\n",
    "- **player_id** e.g. 00-0000003\n",
    "- **player_display_name** e.g. Abdul-Karim al-Jabbar\n",
    "- **position** e.g. RB\n",
    "- **position_group** e.g. SPEC\n",
    "- **headshot_url** e.g. https://static.www.nfl.com/image/private/f_auto,q_auto/league/dypn7kf7fsaz30ey0ayc\n",
    "- **recent_team** e.g MIA\n",
    "- **season** e.g. 1999\n",
    "- **week** e.g. 1\n",
    "- **season_type** e.g. REG\n",
    "- **opponent_team** e.g. DEN\n",
    "- **receptions** e.g. 3\n",
    "- **targets** e.g. 4\n",
    "- **receiving_yards** e.g 49\n",
    "- **receiving_tds** e.g. 1\n",
    "- **receiving_air_yards** e.g. 35\n",
    "- **receiving_yards_after_catch** e.g. 14\n",
    "- **receiving_epa** e.g. 0.2923\n",
    "- **target_share** e.g. 0.0526\n",
    "- **wopr** e.g. 1.2830 (weighted opportunity rating)\n"
   ]
  },
  {
   "cell_type": "markdown",
   "id": "c9879090",
   "metadata": {},
   "source": [
    "<h2 id=\"reading_data\">Reading the data in</h2>\n"
   ]
  },
  {
   "cell_type": "code",
   "execution_count": 3,
   "id": "3acaa802",
   "metadata": {
    "scrolled": false
   },
   "outputs": [
    {
     "data": {
      "text/html": [
       "<div>\n",
       "<style scoped>\n",
       "    .dataframe tbody tr th:only-of-type {\n",
       "        vertical-align: middle;\n",
       "    }\n",
       "\n",
       "    .dataframe tbody tr th {\n",
       "        vertical-align: top;\n",
       "    }\n",
       "\n",
       "    .dataframe thead th {\n",
       "        text-align: right;\n",
       "    }\n",
       "</style>\n",
       "<table border=\"1\" class=\"dataframe\">\n",
       "  <thead>\n",
       "    <tr style=\"text-align: right;\">\n",
       "      <th></th>\n",
       "      <th>player_id</th>\n",
       "      <th>player_name</th>\n",
       "      <th>player_display_name</th>\n",
       "      <th>position</th>\n",
       "      <th>position_group</th>\n",
       "      <th>headshot_url</th>\n",
       "      <th>recent_team</th>\n",
       "      <th>season</th>\n",
       "      <th>week</th>\n",
       "      <th>season_type</th>\n",
       "      <th>...</th>\n",
       "      <th>receiving_first_downs</th>\n",
       "      <th>receiving_epa</th>\n",
       "      <th>receiving_2pt_conversions</th>\n",
       "      <th>racr</th>\n",
       "      <th>target_share</th>\n",
       "      <th>air_yards_share</th>\n",
       "      <th>wopr</th>\n",
       "      <th>special_teams_tds</th>\n",
       "      <th>fantasy_points</th>\n",
       "      <th>fantasy_points_ppr</th>\n",
       "    </tr>\n",
       "  </thead>\n",
       "  <tbody>\n",
       "    <tr>\n",
       "      <th>0</th>\n",
       "      <td>00-0000003</td>\n",
       "      <td>NaN</td>\n",
       "      <td>Abdul-Karim al-Jabbar</td>\n",
       "      <td>RB</td>\n",
       "      <td>RB</td>\n",
       "      <td>NaN</td>\n",
       "      <td>MIA</td>\n",
       "      <td>1999</td>\n",
       "      <td>1</td>\n",
       "      <td>REG</td>\n",
       "      <td>...</td>\n",
       "      <td>0</td>\n",
       "      <td>0.292378</td>\n",
       "      <td>0</td>\n",
       "      <td>0.0</td>\n",
       "      <td>0.052632</td>\n",
       "      <td>NaN</td>\n",
       "      <td>NaN</td>\n",
       "      <td>0</td>\n",
       "      <td>12.7</td>\n",
       "      <td>13.7</td>\n",
       "    </tr>\n",
       "    <tr>\n",
       "      <th>1</th>\n",
       "      <td>00-0000003</td>\n",
       "      <td>NaN</td>\n",
       "      <td>Abdul-Karim al-Jabbar</td>\n",
       "      <td>RB</td>\n",
       "      <td>RB</td>\n",
       "      <td>NaN</td>\n",
       "      <td>MIA</td>\n",
       "      <td>1999</td>\n",
       "      <td>2</td>\n",
       "      <td>REG</td>\n",
       "      <td>...</td>\n",
       "      <td>1</td>\n",
       "      <td>0.377009</td>\n",
       "      <td>0</td>\n",
       "      <td>0.0</td>\n",
       "      <td>0.117647</td>\n",
       "      <td>NaN</td>\n",
       "      <td>NaN</td>\n",
       "      <td>0</td>\n",
       "      <td>5.1</td>\n",
       "      <td>8.1</td>\n",
       "    </tr>\n",
       "    <tr>\n",
       "      <th>2</th>\n",
       "      <td>00-0000003</td>\n",
       "      <td>NaN</td>\n",
       "      <td>Abdul-Karim al-Jabbar</td>\n",
       "      <td>RB</td>\n",
       "      <td>RB</td>\n",
       "      <td>NaN</td>\n",
       "      <td>MIA</td>\n",
       "      <td>1999</td>\n",
       "      <td>4</td>\n",
       "      <td>REG</td>\n",
       "      <td>...</td>\n",
       "      <td>0</td>\n",
       "      <td>-0.699578</td>\n",
       "      <td>0</td>\n",
       "      <td>NaN</td>\n",
       "      <td>0.023810</td>\n",
       "      <td>NaN</td>\n",
       "      <td>NaN</td>\n",
       "      <td>0</td>\n",
       "      <td>0.2</td>\n",
       "      <td>0.2</td>\n",
       "    </tr>\n",
       "    <tr>\n",
       "      <th>3</th>\n",
       "      <td>00-0000003</td>\n",
       "      <td>NaN</td>\n",
       "      <td>Abdul-Karim al-Jabbar</td>\n",
       "      <td>RB</td>\n",
       "      <td>RB</td>\n",
       "      <td>NaN</td>\n",
       "      <td>CLE</td>\n",
       "      <td>1999</td>\n",
       "      <td>7</td>\n",
       "      <td>REG</td>\n",
       "      <td>...</td>\n",
       "      <td>0</td>\n",
       "      <td>-0.228454</td>\n",
       "      <td>0</td>\n",
       "      <td>0.0</td>\n",
       "      <td>0.050000</td>\n",
       "      <td>NaN</td>\n",
       "      <td>NaN</td>\n",
       "      <td>0</td>\n",
       "      <td>3.5</td>\n",
       "      <td>5.5</td>\n",
       "    </tr>\n",
       "    <tr>\n",
       "      <th>4</th>\n",
       "      <td>00-0000003</td>\n",
       "      <td>NaN</td>\n",
       "      <td>Abdul-Karim al-Jabbar</td>\n",
       "      <td>RB</td>\n",
       "      <td>RB</td>\n",
       "      <td>NaN</td>\n",
       "      <td>CLE</td>\n",
       "      <td>1999</td>\n",
       "      <td>8</td>\n",
       "      <td>REG</td>\n",
       "      <td>...</td>\n",
       "      <td>0</td>\n",
       "      <td>NaN</td>\n",
       "      <td>0</td>\n",
       "      <td>NaN</td>\n",
       "      <td>NaN</td>\n",
       "      <td>NaN</td>\n",
       "      <td>NaN</td>\n",
       "      <td>0</td>\n",
       "      <td>3.9</td>\n",
       "      <td>3.9</td>\n",
       "    </tr>\n",
       "  </tbody>\n",
       "</table>\n",
       "<p>5 rows × 53 columns</p>\n",
       "</div>"
      ],
      "text/plain": [
       "    player_id player_name    player_display_name position position_group  \\\n",
       "0  00-0000003         NaN  Abdul-Karim al-Jabbar       RB             RB   \n",
       "1  00-0000003         NaN  Abdul-Karim al-Jabbar       RB             RB   \n",
       "2  00-0000003         NaN  Abdul-Karim al-Jabbar       RB             RB   \n",
       "3  00-0000003         NaN  Abdul-Karim al-Jabbar       RB             RB   \n",
       "4  00-0000003         NaN  Abdul-Karim al-Jabbar       RB             RB   \n",
       "\n",
       "  headshot_url recent_team  season  week season_type  ...  \\\n",
       "0          NaN         MIA    1999     1         REG  ...   \n",
       "1          NaN         MIA    1999     2         REG  ...   \n",
       "2          NaN         MIA    1999     4         REG  ...   \n",
       "3          NaN         CLE    1999     7         REG  ...   \n",
       "4          NaN         CLE    1999     8         REG  ...   \n",
       "\n",
       "  receiving_first_downs  receiving_epa  receiving_2pt_conversions  racr  \\\n",
       "0                     0       0.292378                          0   0.0   \n",
       "1                     1       0.377009                          0   0.0   \n",
       "2                     0      -0.699578                          0   NaN   \n",
       "3                     0      -0.228454                          0   0.0   \n",
       "4                     0            NaN                          0   NaN   \n",
       "\n",
       "   target_share  air_yards_share  wopr  special_teams_tds  fantasy_points  \\\n",
       "0      0.052632              NaN   NaN                  0            12.7   \n",
       "1      0.117647              NaN   NaN                  0             5.1   \n",
       "2      0.023810              NaN   NaN                  0             0.2   \n",
       "3      0.050000              NaN   NaN                  0             3.5   \n",
       "4           NaN              NaN   NaN                  0             3.9   \n",
       "\n",
       "   fantasy_points_ppr  \n",
       "0                13.7  \n",
       "1                 8.1  \n",
       "2                 0.2  \n",
       "3                 5.5  \n",
       "4                 3.9  \n",
       "\n",
       "[5 rows x 53 columns]"
      ]
     },
     "execution_count": 3,
     "metadata": {},
     "output_type": "execute_result"
    }
   ],
   "source": [
    "df = pd.read_csv(\"C:/Users/noahd/Downloads/player_stats.csv\")\n",
    "\n",
    "# take a look at the dataset\n",
    "df.head()"
   ]
  },
  {
   "cell_type": "code",
   "execution_count": 4,
   "id": "2e68c02a",
   "metadata": {},
   "outputs": [
    {
     "data": {
      "text/html": [
       "<div>\n",
       "<style scoped>\n",
       "    .dataframe tbody tr th:only-of-type {\n",
       "        vertical-align: middle;\n",
       "    }\n",
       "\n",
       "    .dataframe tbody tr th {\n",
       "        vertical-align: top;\n",
       "    }\n",
       "\n",
       "    .dataframe thead th {\n",
       "        text-align: right;\n",
       "    }\n",
       "</style>\n",
       "<table border=\"1\" class=\"dataframe\">\n",
       "  <thead>\n",
       "    <tr style=\"text-align: right;\">\n",
       "      <th></th>\n",
       "      <th>player_id</th>\n",
       "      <th>player_name</th>\n",
       "      <th>player_display_name</th>\n",
       "      <th>position</th>\n",
       "      <th>position_group</th>\n",
       "      <th>headshot_url</th>\n",
       "      <th>recent_team</th>\n",
       "      <th>season</th>\n",
       "      <th>week</th>\n",
       "      <th>season_type</th>\n",
       "      <th>...</th>\n",
       "      <th>receiving_first_downs</th>\n",
       "      <th>receiving_epa</th>\n",
       "      <th>receiving_2pt_conversions</th>\n",
       "      <th>racr</th>\n",
       "      <th>target_share</th>\n",
       "      <th>air_yards_share</th>\n",
       "      <th>wopr</th>\n",
       "      <th>special_teams_tds</th>\n",
       "      <th>fantasy_points</th>\n",
       "      <th>fantasy_points_ppr</th>\n",
       "    </tr>\n",
       "  </thead>\n",
       "  <tbody>\n",
       "    <tr>\n",
       "      <th>0</th>\n",
       "      <td>00-0000003</td>\n",
       "      <td>0</td>\n",
       "      <td>Abdul-Karim al-Jabbar</td>\n",
       "      <td>RB</td>\n",
       "      <td>RB</td>\n",
       "      <td>0</td>\n",
       "      <td>MIA</td>\n",
       "      <td>1999</td>\n",
       "      <td>1</td>\n",
       "      <td>REG</td>\n",
       "      <td>...</td>\n",
       "      <td>0</td>\n",
       "      <td>0.292378</td>\n",
       "      <td>0</td>\n",
       "      <td>0.0</td>\n",
       "      <td>0.052632</td>\n",
       "      <td>0.0</td>\n",
       "      <td>0.0</td>\n",
       "      <td>0</td>\n",
       "      <td>12.7</td>\n",
       "      <td>13.7</td>\n",
       "    </tr>\n",
       "    <tr>\n",
       "      <th>1</th>\n",
       "      <td>00-0000003</td>\n",
       "      <td>0</td>\n",
       "      <td>Abdul-Karim al-Jabbar</td>\n",
       "      <td>RB</td>\n",
       "      <td>RB</td>\n",
       "      <td>0</td>\n",
       "      <td>MIA</td>\n",
       "      <td>1999</td>\n",
       "      <td>2</td>\n",
       "      <td>REG</td>\n",
       "      <td>...</td>\n",
       "      <td>1</td>\n",
       "      <td>0.377009</td>\n",
       "      <td>0</td>\n",
       "      <td>0.0</td>\n",
       "      <td>0.117647</td>\n",
       "      <td>0.0</td>\n",
       "      <td>0.0</td>\n",
       "      <td>0</td>\n",
       "      <td>5.1</td>\n",
       "      <td>8.1</td>\n",
       "    </tr>\n",
       "    <tr>\n",
       "      <th>2</th>\n",
       "      <td>00-0000003</td>\n",
       "      <td>0</td>\n",
       "      <td>Abdul-Karim al-Jabbar</td>\n",
       "      <td>RB</td>\n",
       "      <td>RB</td>\n",
       "      <td>0</td>\n",
       "      <td>MIA</td>\n",
       "      <td>1999</td>\n",
       "      <td>4</td>\n",
       "      <td>REG</td>\n",
       "      <td>...</td>\n",
       "      <td>0</td>\n",
       "      <td>-0.699578</td>\n",
       "      <td>0</td>\n",
       "      <td>0.0</td>\n",
       "      <td>0.023810</td>\n",
       "      <td>0.0</td>\n",
       "      <td>0.0</td>\n",
       "      <td>0</td>\n",
       "      <td>0.2</td>\n",
       "      <td>0.2</td>\n",
       "    </tr>\n",
       "    <tr>\n",
       "      <th>3</th>\n",
       "      <td>00-0000003</td>\n",
       "      <td>0</td>\n",
       "      <td>Abdul-Karim al-Jabbar</td>\n",
       "      <td>RB</td>\n",
       "      <td>RB</td>\n",
       "      <td>0</td>\n",
       "      <td>CLE</td>\n",
       "      <td>1999</td>\n",
       "      <td>7</td>\n",
       "      <td>REG</td>\n",
       "      <td>...</td>\n",
       "      <td>0</td>\n",
       "      <td>-0.228454</td>\n",
       "      <td>0</td>\n",
       "      <td>0.0</td>\n",
       "      <td>0.050000</td>\n",
       "      <td>0.0</td>\n",
       "      <td>0.0</td>\n",
       "      <td>0</td>\n",
       "      <td>3.5</td>\n",
       "      <td>5.5</td>\n",
       "    </tr>\n",
       "    <tr>\n",
       "      <th>4</th>\n",
       "      <td>00-0000003</td>\n",
       "      <td>0</td>\n",
       "      <td>Abdul-Karim al-Jabbar</td>\n",
       "      <td>RB</td>\n",
       "      <td>RB</td>\n",
       "      <td>0</td>\n",
       "      <td>CLE</td>\n",
       "      <td>1999</td>\n",
       "      <td>8</td>\n",
       "      <td>REG</td>\n",
       "      <td>...</td>\n",
       "      <td>0</td>\n",
       "      <td>0.000000</td>\n",
       "      <td>0</td>\n",
       "      <td>0.0</td>\n",
       "      <td>0.000000</td>\n",
       "      <td>0.0</td>\n",
       "      <td>0.0</td>\n",
       "      <td>0</td>\n",
       "      <td>3.9</td>\n",
       "      <td>3.9</td>\n",
       "    </tr>\n",
       "  </tbody>\n",
       "</table>\n",
       "<p>5 rows × 53 columns</p>\n",
       "</div>"
      ],
      "text/plain": [
       "    player_id player_name    player_display_name position position_group  \\\n",
       "0  00-0000003           0  Abdul-Karim al-Jabbar       RB             RB   \n",
       "1  00-0000003           0  Abdul-Karim al-Jabbar       RB             RB   \n",
       "2  00-0000003           0  Abdul-Karim al-Jabbar       RB             RB   \n",
       "3  00-0000003           0  Abdul-Karim al-Jabbar       RB             RB   \n",
       "4  00-0000003           0  Abdul-Karim al-Jabbar       RB             RB   \n",
       "\n",
       "  headshot_url recent_team  season  week season_type  ...  \\\n",
       "0            0         MIA    1999     1         REG  ...   \n",
       "1            0         MIA    1999     2         REG  ...   \n",
       "2            0         MIA    1999     4         REG  ...   \n",
       "3            0         CLE    1999     7         REG  ...   \n",
       "4            0         CLE    1999     8         REG  ...   \n",
       "\n",
       "  receiving_first_downs  receiving_epa  receiving_2pt_conversions  racr  \\\n",
       "0                     0       0.292378                          0   0.0   \n",
       "1                     1       0.377009                          0   0.0   \n",
       "2                     0      -0.699578                          0   0.0   \n",
       "3                     0      -0.228454                          0   0.0   \n",
       "4                     0       0.000000                          0   0.0   \n",
       "\n",
       "   target_share  air_yards_share  wopr  special_teams_tds  fantasy_points  \\\n",
       "0      0.052632              0.0   0.0                  0            12.7   \n",
       "1      0.117647              0.0   0.0                  0             5.1   \n",
       "2      0.023810              0.0   0.0                  0             0.2   \n",
       "3      0.050000              0.0   0.0                  0             3.5   \n",
       "4      0.000000              0.0   0.0                  0             3.9   \n",
       "\n",
       "   fantasy_points_ppr  \n",
       "0                13.7  \n",
       "1                 8.1  \n",
       "2                 0.2  \n",
       "3                 5.5  \n",
       "4                 3.9  \n",
       "\n",
       "[5 rows x 53 columns]"
      ]
     },
     "execution_count": 4,
     "metadata": {},
     "output_type": "execute_result"
    }
   ],
   "source": [
    "# replacing NaN values with 0\n",
    "df = df.fillna(0)\n",
    "df.head()\n"
   ]
  },
  {
   "cell_type": "markdown",
   "id": "8fb4c71a",
   "metadata": {},
   "source": [
    "Let's make a column for each player's stats the last 10 games."
   ]
  },
  {
   "cell_type": "code",
   "execution_count": 5,
   "id": "dbab1caa",
   "metadata": {},
   "outputs": [
    {
     "data": {
      "text/html": [
       "<div>\n",
       "<style scoped>\n",
       "    .dataframe tbody tr th:only-of-type {\n",
       "        vertical-align: middle;\n",
       "    }\n",
       "\n",
       "    .dataframe tbody tr th {\n",
       "        vertical-align: top;\n",
       "    }\n",
       "\n",
       "    .dataframe thead th {\n",
       "        text-align: right;\n",
       "    }\n",
       "</style>\n",
       "<table border=\"1\" class=\"dataframe\">\n",
       "  <thead>\n",
       "    <tr style=\"text-align: right;\">\n",
       "      <th></th>\n",
       "      <th>player_id</th>\n",
       "      <th>player_name</th>\n",
       "      <th>player_display_name</th>\n",
       "      <th>position</th>\n",
       "      <th>position_group</th>\n",
       "      <th>headshot_url</th>\n",
       "      <th>recent_team</th>\n",
       "      <th>season</th>\n",
       "      <th>week</th>\n",
       "      <th>season_type</th>\n",
       "      <th>...</th>\n",
       "      <th>fantasy_points</th>\n",
       "      <th>fantasy_points_ppr</th>\n",
       "      <th>receptions_L10</th>\n",
       "      <th>targets_L10</th>\n",
       "      <th>receiving_yards_L10</th>\n",
       "      <th>receiving_air_yards_L10</th>\n",
       "      <th>receiving_yards_after_catch_L10</th>\n",
       "      <th>receiving_epa_L10</th>\n",
       "      <th>target_share_L10</th>\n",
       "      <th>wopr_L10</th>\n",
       "    </tr>\n",
       "  </thead>\n",
       "  <tbody>\n",
       "    <tr>\n",
       "      <th>0</th>\n",
       "      <td>00-0000003</td>\n",
       "      <td>0</td>\n",
       "      <td>Abdul-Karim al-Jabbar</td>\n",
       "      <td>RB</td>\n",
       "      <td>RB</td>\n",
       "      <td>0</td>\n",
       "      <td>MIA</td>\n",
       "      <td>1999</td>\n",
       "      <td>1</td>\n",
       "      <td>REG</td>\n",
       "      <td>...</td>\n",
       "      <td>12.7</td>\n",
       "      <td>13.7</td>\n",
       "      <td>0.000000</td>\n",
       "      <td>0.0</td>\n",
       "      <td>0.000000</td>\n",
       "      <td>0.0</td>\n",
       "      <td>0.0</td>\n",
       "      <td>0.000000</td>\n",
       "      <td>0.000000</td>\n",
       "      <td>0.0</td>\n",
       "    </tr>\n",
       "    <tr>\n",
       "      <th>1</th>\n",
       "      <td>00-0000003</td>\n",
       "      <td>0</td>\n",
       "      <td>Abdul-Karim al-Jabbar</td>\n",
       "      <td>RB</td>\n",
       "      <td>RB</td>\n",
       "      <td>0</td>\n",
       "      <td>MIA</td>\n",
       "      <td>1999</td>\n",
       "      <td>2</td>\n",
       "      <td>REG</td>\n",
       "      <td>...</td>\n",
       "      <td>5.1</td>\n",
       "      <td>8.1</td>\n",
       "      <td>1.000000</td>\n",
       "      <td>1.0</td>\n",
       "      <td>7.000000</td>\n",
       "      <td>0.0</td>\n",
       "      <td>0.0</td>\n",
       "      <td>0.292378</td>\n",
       "      <td>0.052632</td>\n",
       "      <td>0.0</td>\n",
       "    </tr>\n",
       "    <tr>\n",
       "      <th>2</th>\n",
       "      <td>00-0000003</td>\n",
       "      <td>0</td>\n",
       "      <td>Abdul-Karim al-Jabbar</td>\n",
       "      <td>RB</td>\n",
       "      <td>RB</td>\n",
       "      <td>0</td>\n",
       "      <td>MIA</td>\n",
       "      <td>1999</td>\n",
       "      <td>4</td>\n",
       "      <td>REG</td>\n",
       "      <td>...</td>\n",
       "      <td>0.2</td>\n",
       "      <td>0.2</td>\n",
       "      <td>2.000000</td>\n",
       "      <td>2.5</td>\n",
       "      <td>12.500000</td>\n",
       "      <td>0.0</td>\n",
       "      <td>0.0</td>\n",
       "      <td>0.334694</td>\n",
       "      <td>0.085139</td>\n",
       "      <td>0.0</td>\n",
       "    </tr>\n",
       "    <tr>\n",
       "      <th>3</th>\n",
       "      <td>00-0000003</td>\n",
       "      <td>0</td>\n",
       "      <td>Abdul-Karim al-Jabbar</td>\n",
       "      <td>RB</td>\n",
       "      <td>RB</td>\n",
       "      <td>0</td>\n",
       "      <td>CLE</td>\n",
       "      <td>1999</td>\n",
       "      <td>7</td>\n",
       "      <td>REG</td>\n",
       "      <td>...</td>\n",
       "      <td>3.5</td>\n",
       "      <td>5.5</td>\n",
       "      <td>1.333333</td>\n",
       "      <td>2.0</td>\n",
       "      <td>8.333333</td>\n",
       "      <td>0.0</td>\n",
       "      <td>0.0</td>\n",
       "      <td>-0.010064</td>\n",
       "      <td>0.064696</td>\n",
       "      <td>0.0</td>\n",
       "    </tr>\n",
       "    <tr>\n",
       "      <th>4</th>\n",
       "      <td>00-0000003</td>\n",
       "      <td>0</td>\n",
       "      <td>Abdul-Karim al-Jabbar</td>\n",
       "      <td>RB</td>\n",
       "      <td>RB</td>\n",
       "      <td>0</td>\n",
       "      <td>CLE</td>\n",
       "      <td>1999</td>\n",
       "      <td>8</td>\n",
       "      <td>REG</td>\n",
       "      <td>...</td>\n",
       "      <td>3.9</td>\n",
       "      <td>3.9</td>\n",
       "      <td>1.500000</td>\n",
       "      <td>2.0</td>\n",
       "      <td>8.250000</td>\n",
       "      <td>0.0</td>\n",
       "      <td>0.0</td>\n",
       "      <td>-0.064661</td>\n",
       "      <td>0.061022</td>\n",
       "      <td>0.0</td>\n",
       "    </tr>\n",
       "  </tbody>\n",
       "</table>\n",
       "<p>5 rows × 61 columns</p>\n",
       "</div>"
      ],
      "text/plain": [
       "    player_id player_name    player_display_name position position_group  \\\n",
       "0  00-0000003           0  Abdul-Karim al-Jabbar       RB             RB   \n",
       "1  00-0000003           0  Abdul-Karim al-Jabbar       RB             RB   \n",
       "2  00-0000003           0  Abdul-Karim al-Jabbar       RB             RB   \n",
       "3  00-0000003           0  Abdul-Karim al-Jabbar       RB             RB   \n",
       "4  00-0000003           0  Abdul-Karim al-Jabbar       RB             RB   \n",
       "\n",
       "  headshot_url recent_team  season  week season_type  ... fantasy_points  \\\n",
       "0            0         MIA    1999     1         REG  ...           12.7   \n",
       "1            0         MIA    1999     2         REG  ...            5.1   \n",
       "2            0         MIA    1999     4         REG  ...            0.2   \n",
       "3            0         CLE    1999     7         REG  ...            3.5   \n",
       "4            0         CLE    1999     8         REG  ...            3.9   \n",
       "\n",
       "   fantasy_points_ppr  receptions_L10  targets_L10  receiving_yards_L10  \\\n",
       "0                13.7        0.000000          0.0             0.000000   \n",
       "1                 8.1        1.000000          1.0             7.000000   \n",
       "2                 0.2        2.000000          2.5            12.500000   \n",
       "3                 5.5        1.333333          2.0             8.333333   \n",
       "4                 3.9        1.500000          2.0             8.250000   \n",
       "\n",
       "   receiving_air_yards_L10  receiving_yards_after_catch_L10  \\\n",
       "0                      0.0                              0.0   \n",
       "1                      0.0                              0.0   \n",
       "2                      0.0                              0.0   \n",
       "3                      0.0                              0.0   \n",
       "4                      0.0                              0.0   \n",
       "\n",
       "   receiving_epa_L10  target_share_L10  wopr_L10  \n",
       "0           0.000000          0.000000       0.0  \n",
       "1           0.292378          0.052632       0.0  \n",
       "2           0.334694          0.085139       0.0  \n",
       "3          -0.010064          0.064696       0.0  \n",
       "4          -0.064661          0.061022       0.0  \n",
       "\n",
       "[5 rows x 61 columns]"
      ]
     },
     "execution_count": 5,
     "metadata": {},
     "output_type": "execute_result"
    }
   ],
   "source": [
    "stats = ['receptions', 'targets', 'receiving_yards', 'receiving_air_yards', 'receiving_yards_after_catch', \n",
    "         'receiving_epa', 'target_share', 'wopr']\n",
    "\n",
    "# Calculate the 10-game rolling average for each player and stat\n",
    "for stat in stats:\n",
    "    df[f'{stat}_L10'] = df.groupby('player_id')[stat].shift(1).rolling(window=10, min_periods=1).mean().reset_index(level=0, drop=True)\n",
    "\n",
    "# replacing NaN values with 0\n",
    "df = df.fillna(0)\n",
    "\n",
    "# Now, df will have new columns like 'receptions_L10', 'targets_L10', etc., \n",
    "# which represent the 10-game rolling average for each stat\n",
    "df.head()"
   ]
  },
  {
   "cell_type": "markdown",
   "id": "63a40823",
   "metadata": {},
   "source": [
    "Let's select some features that we want to use for regression.\n"
   ]
  },
  {
   "cell_type": "code",
   "execution_count": 9,
   "id": "4ad53f7e",
   "metadata": {},
   "outputs": [
    {
     "data": {
      "text/html": [
       "<div>\n",
       "<style scoped>\n",
       "    .dataframe tbody tr th:only-of-type {\n",
       "        vertical-align: middle;\n",
       "    }\n",
       "\n",
       "    .dataframe tbody tr th {\n",
       "        vertical-align: top;\n",
       "    }\n",
       "\n",
       "    .dataframe thead th {\n",
       "        text-align: right;\n",
       "    }\n",
       "</style>\n",
       "<table border=\"1\" class=\"dataframe\">\n",
       "  <thead>\n",
       "    <tr style=\"text-align: right;\">\n",
       "      <th></th>\n",
       "      <th>player_id</th>\n",
       "      <th>player_display_name</th>\n",
       "      <th>receptions</th>\n",
       "      <th>targets</th>\n",
       "      <th>receiving_yards</th>\n",
       "      <th>receiving_tds</th>\n",
       "      <th>receiving_air_yards</th>\n",
       "      <th>receiving_yards_after_catch</th>\n",
       "      <th>receiving_epa</th>\n",
       "      <th>target_share</th>\n",
       "      <th>wopr</th>\n",
       "      <th>receptions_L10</th>\n",
       "      <th>targets_L10</th>\n",
       "      <th>receiving_air_yards_L10</th>\n",
       "      <th>receiving_yards_after_catch_L10</th>\n",
       "      <th>receiving_epa_L10</th>\n",
       "      <th>target_share_L10</th>\n",
       "      <th>wopr_L10</th>\n",
       "      <th>receiving_yards_L10</th>\n",
       "    </tr>\n",
       "  </thead>\n",
       "  <tbody>\n",
       "    <tr>\n",
       "      <th>0</th>\n",
       "      <td>00-0000003</td>\n",
       "      <td>Abdul-Karim al-Jabbar</td>\n",
       "      <td>1</td>\n",
       "      <td>1</td>\n",
       "      <td>7</td>\n",
       "      <td>0</td>\n",
       "      <td>0</td>\n",
       "      <td>0</td>\n",
       "      <td>0.292378</td>\n",
       "      <td>0.052632</td>\n",
       "      <td>0.0</td>\n",
       "      <td>0.000000</td>\n",
       "      <td>0.0</td>\n",
       "      <td>0.0</td>\n",
       "      <td>0.0</td>\n",
       "      <td>0.000000</td>\n",
       "      <td>0.000000</td>\n",
       "      <td>0.0</td>\n",
       "      <td>0.000000</td>\n",
       "    </tr>\n",
       "    <tr>\n",
       "      <th>1</th>\n",
       "      <td>00-0000003</td>\n",
       "      <td>Abdul-Karim al-Jabbar</td>\n",
       "      <td>3</td>\n",
       "      <td>4</td>\n",
       "      <td>18</td>\n",
       "      <td>0</td>\n",
       "      <td>0</td>\n",
       "      <td>0</td>\n",
       "      <td>0.377009</td>\n",
       "      <td>0.117647</td>\n",
       "      <td>0.0</td>\n",
       "      <td>1.000000</td>\n",
       "      <td>1.0</td>\n",
       "      <td>0.0</td>\n",
       "      <td>0.0</td>\n",
       "      <td>0.292378</td>\n",
       "      <td>0.052632</td>\n",
       "      <td>0.0</td>\n",
       "      <td>7.000000</td>\n",
       "    </tr>\n",
       "    <tr>\n",
       "      <th>2</th>\n",
       "      <td>00-0000003</td>\n",
       "      <td>Abdul-Karim al-Jabbar</td>\n",
       "      <td>0</td>\n",
       "      <td>1</td>\n",
       "      <td>0</td>\n",
       "      <td>0</td>\n",
       "      <td>0</td>\n",
       "      <td>0</td>\n",
       "      <td>-0.699578</td>\n",
       "      <td>0.023810</td>\n",
       "      <td>0.0</td>\n",
       "      <td>2.000000</td>\n",
       "      <td>2.5</td>\n",
       "      <td>0.0</td>\n",
       "      <td>0.0</td>\n",
       "      <td>0.334694</td>\n",
       "      <td>0.085139</td>\n",
       "      <td>0.0</td>\n",
       "      <td>12.500000</td>\n",
       "    </tr>\n",
       "    <tr>\n",
       "      <th>3</th>\n",
       "      <td>00-0000003</td>\n",
       "      <td>Abdul-Karim al-Jabbar</td>\n",
       "      <td>2</td>\n",
       "      <td>2</td>\n",
       "      <td>8</td>\n",
       "      <td>0</td>\n",
       "      <td>0</td>\n",
       "      <td>0</td>\n",
       "      <td>-0.228454</td>\n",
       "      <td>0.050000</td>\n",
       "      <td>0.0</td>\n",
       "      <td>1.333333</td>\n",
       "      <td>2.0</td>\n",
       "      <td>0.0</td>\n",
       "      <td>0.0</td>\n",
       "      <td>-0.010064</td>\n",
       "      <td>0.064696</td>\n",
       "      <td>0.0</td>\n",
       "      <td>8.333333</td>\n",
       "    </tr>\n",
       "    <tr>\n",
       "      <th>4</th>\n",
       "      <td>00-0000003</td>\n",
       "      <td>Abdul-Karim al-Jabbar</td>\n",
       "      <td>0</td>\n",
       "      <td>0</td>\n",
       "      <td>0</td>\n",
       "      <td>0</td>\n",
       "      <td>0</td>\n",
       "      <td>0</td>\n",
       "      <td>0.000000</td>\n",
       "      <td>0.000000</td>\n",
       "      <td>0.0</td>\n",
       "      <td>1.500000</td>\n",
       "      <td>2.0</td>\n",
       "      <td>0.0</td>\n",
       "      <td>0.0</td>\n",
       "      <td>-0.064661</td>\n",
       "      <td>0.061022</td>\n",
       "      <td>0.0</td>\n",
       "      <td>8.250000</td>\n",
       "    </tr>\n",
       "  </tbody>\n",
       "</table>\n",
       "</div>"
      ],
      "text/plain": [
       "    player_id    player_display_name  receptions  targets  receiving_yards  \\\n",
       "0  00-0000003  Abdul-Karim al-Jabbar           1        1                7   \n",
       "1  00-0000003  Abdul-Karim al-Jabbar           3        4               18   \n",
       "2  00-0000003  Abdul-Karim al-Jabbar           0        1                0   \n",
       "3  00-0000003  Abdul-Karim al-Jabbar           2        2                8   \n",
       "4  00-0000003  Abdul-Karim al-Jabbar           0        0                0   \n",
       "\n",
       "   receiving_tds  receiving_air_yards  receiving_yards_after_catch  \\\n",
       "0              0                    0                            0   \n",
       "1              0                    0                            0   \n",
       "2              0                    0                            0   \n",
       "3              0                    0                            0   \n",
       "4              0                    0                            0   \n",
       "\n",
       "   receiving_epa  target_share  wopr  receptions_L10  targets_L10  \\\n",
       "0       0.292378      0.052632   0.0        0.000000          0.0   \n",
       "1       0.377009      0.117647   0.0        1.000000          1.0   \n",
       "2      -0.699578      0.023810   0.0        2.000000          2.5   \n",
       "3      -0.228454      0.050000   0.0        1.333333          2.0   \n",
       "4       0.000000      0.000000   0.0        1.500000          2.0   \n",
       "\n",
       "   receiving_air_yards_L10  receiving_yards_after_catch_L10  \\\n",
       "0                      0.0                              0.0   \n",
       "1                      0.0                              0.0   \n",
       "2                      0.0                              0.0   \n",
       "3                      0.0                              0.0   \n",
       "4                      0.0                              0.0   \n",
       "\n",
       "   receiving_epa_L10  target_share_L10  wopr_L10  receiving_yards_L10  \n",
       "0           0.000000          0.000000       0.0             0.000000  \n",
       "1           0.292378          0.052632       0.0             7.000000  \n",
       "2           0.334694          0.085139       0.0            12.500000  \n",
       "3          -0.010064          0.064696       0.0             8.333333  \n",
       "4          -0.064661          0.061022       0.0             8.250000  "
      ]
     },
     "execution_count": 9,
     "metadata": {},
     "output_type": "execute_result"
    }
   ],
   "source": [
    "# Filter the dataframe to include only RBs, FBs, WRs, and TEs\n",
    "df = df[df['position'].isin(['RB', 'FB', 'WR', 'TE'])]\n",
    "\n",
    "cdf = df[['player_id', 'player_display_name', 'receptions', 'targets', 'receiving_yards', 'receiving_tds', \n",
    "                   'receiving_air_yards', 'receiving_yards_after_catch', 'receiving_epa', 'target_share', \n",
    "                   'wopr', 'receptions_L10', 'targets_L10', 'receiving_air_yards_L10', \n",
    "                   'receiving_yards_after_catch_L10', 'receiving_epa_L10', 'target_share_L10', \n",
    "                   'wopr_L10', 'receiving_yards_L10']]\n",
    "cdf.head()"
   ]
  },
  {
   "cell_type": "markdown",
   "id": "4a2a9f63",
   "metadata": {},
   "source": [
    "Let's plot receiving yards values with respect to target share in the last 10 games:\n"
   ]
  },
  {
   "cell_type": "code",
   "execution_count": 11,
   "id": "d746961e",
   "metadata": {},
   "outputs": [
    {
     "data": {
      "image/png": "[encoded data removed]",
      "text/plain": [
       "<Figure size 640x480 with 1 Axes>"
      ]
     },
     "metadata": {},
     "output_type": "display_data"
    }
   ],
   "source": [
    "plt.scatter(cdf.target_share_L10, cdf.receiving_yards,  color='blue')\n",
    "plt.xlabel(\"Target Share Last 10 Games\")\n",
    "plt.ylabel(\"Receiving Yards\")\n",
    "plt.show()"
   ]
  },
  {
   "cell_type": "markdown",
   "id": "447d24fa",
   "metadata": {},
   "source": [
    "#### Creating train and test dataset\n",
    "The process of splitting data into training and testing sets involves dividing the dataset into two separate parts: one for training and one for testing. These sets are mutually exclusive, meaning the data in one set is not used in the other. Training is done on the training set, while the testing set is used to evaluate the model.\n",
    "\n",
    "This approach helps in assessing the model's performance on new, unseen data, providing a more accurate measure of its out-of-sample accuracy. Since the testing data was not used during the training phase, it offers a genuine test of how well the model generalizes to new examples.\n",
    "\n",
    "The outcomes of the testing dataset are known, making it ideal for evaluation. As this data was not part of the training process, the model has no prior knowledge of these outcomes, ensuring that the testing is truly out-of-sample.\n",
    "\n",
    "To proceed, we'll split our dataset so that approximately 80% is allocated for training and 20% for testing. We’ll create a mask to randomly select rows using the __np.random.rand()__ function."
   ]
  },
  {
   "cell_type": "code",
   "execution_count": 12,
   "id": "4bcba1e8",
   "metadata": {},
   "outputs": [],
   "source": [
    "msk = np.random.rand(len(df)) < 0.8\n",
    "train = cdf[msk]\n",
    "test = cdf[~msk]"
   ]
  },
  {
   "cell_type": "markdown",
   "id": "f47bbb01",
   "metadata": {},
   "source": [
    "#### Train data distribution\n"
   ]
  },
  {
   "cell_type": "code",
   "execution_count": 13,
   "id": "d442bb1c",
   "metadata": {},
   "outputs": [
    {
     "data": {
      "image/png": "[encoded data removed]",
      "text/plain": [
       "<Figure size 640x480 with 1 Axes>"
      ]
     },
     "metadata": {},
     "output_type": "display_data"
    }
   ],
   "source": [
    "plt.scatter(train.target_share_L10, train.receiving_yards,  color='blue')\n",
    "plt.xlabel(\"Target Share Last 10 Games\")\n",
    "plt.ylabel(\"Receiving Yards\")\n",
    "plt.show()"
   ]
  },
  {
   "cell_type": "markdown",
   "id": "9318111e",
   "metadata": {},
   "source": [
    "<h2 id=\"multiple_regression_model\">Multiple Regression Model</h2>\n",
    "<a id=\"multiple_regression_model\"></a>"
   ]
  },
  {
   "cell_type": "markdown",
   "id": "76591bb4",
   "metadata": {},
   "source": [
    "In reality, there are multiple variables that impact receiving yards. When more than one independent variable is present, we use multiple linear regression. An example of multiple linear regression is predicting receiving yards using the features target_share, opponent_team, and receiving_epa of players.\n"
   ]
  },
  {
   "cell_type": "code",
   "execution_count": 14,
   "id": "6782e428",
   "metadata": {},
   "outputs": [
    {
     "name": "stdout",
     "output_type": "stream",
     "text": [
      "Coefficients:  [[-5.62914818e-01  1.31410701e+00  2.74425414e-02 -2.31992822e-01\n",
      "   8.86851396e-01  3.01075619e+01  7.86451750e+00  4.88002536e-01]]\n"
     ]
    }
   ],
   "source": [
    "from sklearn import linear_model\n",
    "regr = linear_model.LinearRegression()\n",
    "x = np.asanyarray(train[['receptions_L10', 'targets_L10',\n",
    "       'receiving_air_yards_L10', 'receiving_yards_after_catch_L10',\n",
    "       'receiving_epa_L10', 'target_share_L10', 'wopr_L10','receiving_yards_L10']])\n",
    "y = np.asanyarray(train[['receiving_yards']])\n",
    "regr.fit (x, y)\n",
    "# The coefficients\n",
    "print ('Coefficients: ', regr.coef_)"
   ]
  },
  {
   "cell_type": "markdown",
   "id": "46e6c948",
   "metadata": {},
   "source": [
    "<h2 id=\"prediction\">Prediction</h2>\n",
    "<a id=\"prediction\"></a>"
   ]
  },
  {
   "cell_type": "code",
   "execution_count": 15,
   "id": "cb331719",
   "metadata": {},
   "outputs": [
    {
     "name": "stdout",
     "output_type": "stream",
     "text": [
      "Mean Squared Error (MSE) : 808.19\n",
      "Variance score: 0.21\n"
     ]
    },
    {
     "name": "stderr",
     "output_type": "stream",
     "text": [
      "C:\\Users\\noahd\\anaconda3\\Lib\\site-packages\\sklearn\\base.py:457: UserWarning: X has feature names, but LinearRegression was fitted without feature names\n",
      "  warnings.warn(\n"
     ]
    }
   ],
   "source": [
    "y_hat= regr.predict(test[['receptions_L10', 'targets_L10',\n",
    "       'receiving_air_yards_L10', 'receiving_yards_after_catch_L10',\n",
    "       'receiving_epa_L10', 'target_share_L10', 'wopr_L10','receiving_yards_L10']])\n",
    "x = np.asanyarray(test[['receptions_L10', 'targets_L10',\n",
    "       'receiving_air_yards_L10', 'receiving_yards_after_catch_L10',\n",
    "       'receiving_epa_L10', 'target_share_L10', 'wopr_L10','receiving_yards_L10']])\n",
    "y = np.asanyarray(test[['receiving_yards']])\n",
    "print(\"Mean Squared Error (MSE) : %.2f\"\n",
    "      % np.mean((y_hat - y) ** 2))\n",
    "\n",
    "# Explained variance score: 1 is perfect prediction\n",
    "print('Variance score: %.2f' % regr.score(x, y))"
   ]
  },
  {
   "cell_type": "markdown",
   "id": "90170a44",
   "metadata": {},
   "source": [
    "Let's use cross-validation to ensure the model’s performance is consistent across different subsets of the data."
   ]
  },
  {
   "cell_type": "code",
   "execution_count": 16,
   "id": "ddd6118a",
   "metadata": {},
   "outputs": [
    {
     "name": "stdout",
     "output_type": "stream",
     "text": [
      "Cross-validation scores: [0.21641495 0.19760278 0.22521377 0.19100484 0.22666864]\n",
      "Mean CV score: 0.21138099483222206\n"
     ]
    }
   ],
   "source": [
    "from sklearn.model_selection import cross_val_score\n",
    "\n",
    "cv_scores = cross_val_score(regr, x, y, cv=5)\n",
    "print(f\"Cross-validation scores: {cv_scores}\")\n",
    "print(f\"Mean CV score: {cv_scores.mean()}\")\n"
   ]
  },
  {
   "cell_type": "markdown",
   "id": "e2641686",
   "metadata": {},
   "source": [
    "Lastly, let's visualize the results."
   ]
  },
  {
   "cell_type": "code",
   "execution_count": 17,
   "id": "484f3ae8",
   "metadata": {},
   "outputs": [
    {
     "data": {
      "image/png": "[encoded data removed]",
      "text/plain": [
       "<Figure size 640x480 with 1 Axes>"
      ]
     },
     "metadata": {},
     "output_type": "display_data"
    }
   ],
   "source": [
    "plt.scatter(y, y_hat)\n",
    "plt.xlabel('Actual values')\n",
    "plt.ylabel('Predicted values')\n",
    "plt.title('Actual vs. Predicted Values')\n",
    "plt.show()\n"
   ]
  },
  {
   "cell_type": "markdown",
   "id": "0dca96df",
   "metadata": {},
   "source": [
    "While these results indicate that the model has some predictive power, it can be improved. Further analysis, feature engineering, and model tuning can help enhance performance."
   ]
  },
  {
   "cell_type": "code",
   "execution_count": 18,
   "id": "1d55c95d",
   "metadata": {},
   "outputs": [],
   "source": [
    "def get_player_stats(player_id, df):\n",
    "    player_stats = df[df['player_id'] == player_id].tail(10)\n",
    "    return player_stats\n"
   ]
  },
  {
   "cell_type": "code",
   "execution_count": 19,
   "id": "a2df0970",
   "metadata": {},
   "outputs": [],
   "source": [
    "def predict_receiving_yards(player_id, df, model):\n",
    "    player_stats = get_player_stats(player_id, df)\n",
    "    if len(player_stats) < 10:\n",
    "        print(\"Not enough data for this player.\")\n",
    "        return None\n",
    "    \n",
    "    x = player_stats[['receptions_L10', 'targets_L10',\n",
    "                      'receiving_air_yards_L10', 'receiving_yards_after_catch_L10',\n",
    "                      'receiving_epa_L10', 'target_share_L10', 'wopr_L10','receiving_yards_L10']].values[-1].reshape(1, -1)\n",
    "    \n",
    "    prediction = model.predict(x)\n",
    "    return prediction[0]\n"
   ]
  },
  {
   "cell_type": "code",
   "execution_count": 20,
   "id": "bfc7619f",
   "metadata": {},
   "outputs": [
    {
     "name": "stdout",
     "output_type": "stream",
     "text": [
      "Predicted receiving yards for player 00-0039075: [55.24399931]\n"
     ]
    }
   ],
   "source": [
    "player_id = '00-0039075'  # Replace with the actual player ID\n",
    "predicted_yards = predict_receiving_yards(player_id, df, regr)\n",
    "print(f\"Predicted receiving yards for player {player_id}: {predicted_yards}\")\n"
   ]
  },
  {
   "cell_type": "code",
   "execution_count": 21,
   "id": "0bb43fb9",
   "metadata": {},
   "outputs": [],
   "source": [
    "def get_player_id(player_name, df):\n",
    "    player_id = df[df['player_display_name'] == player_name]['player_id'].values\n",
    "    if len(player_id) == 0:\n",
    "        print(\"Player not found.\")\n",
    "        return None\n",
    "    return player_id[0]\n"
   ]
  },
  {
   "cell_type": "code",
   "execution_count": 22,
   "id": "e661e247",
   "metadata": {},
   "outputs": [],
   "source": [
    "def predict_receiving_yards_by_name(player_name, df, model):\n",
    "    player_id = get_player_id(player_name, df)\n",
    "    if player_id is None:\n",
    "        return None\n",
    "    \n",
    "    player_stats = get_player_stats(player_id, df)\n",
    "    if len(player_stats) < 10:\n",
    "        print(\"Not enough data for this player.\")\n",
    "        return None\n",
    "    \n",
    "    x = player_stats[['receptions_L10', 'targets_L10',\n",
    "                      'receiving_air_yards_L10', 'receiving_yards_after_catch_L10',\n",
    "                      'receiving_epa_L10', 'target_share_L10', 'wopr_L10','receiving_yards_L10']].values[-1].reshape(1, -1)\n",
    "    \n",
    "    prediction = model.predict(x)\n",
    "    return prediction[0]\n"
   ]
  },
  {
   "cell_type": "code",
   "execution_count": 23,
   "id": "02c0bb89",
   "metadata": {},
   "outputs": [
    {
     "name": "stdout",
     "output_type": "stream",
     "text": [
      "Predicted receiving yards for Puka Nacua: [55.24399931]\n"
     ]
    }
   ],
   "source": [
    "player_name = 'Puka Nacua'  # Replace with the actual player name\n",
    "predicted_yards = predict_receiving_yards_by_name(player_name, df, regr)\n",
    "if predicted_yards is not None:\n",
    "    print(f\"Predicted receiving yards for {player_name}: {predicted_yards}\")\n"
   ]
  },
  {
   "cell_type": "code",
   "execution_count": 24,
   "id": "7ba6a82f",
   "metadata": {},
   "outputs": [
    {
     "name": "stdout",
     "output_type": "stream",
     "text": [
      "Predicted receiving yards for Tyreek Hill: [81.61539213]\n"
     ]
    }
   ],
   "source": [
    "player_name = 'Tyreek Hill'  # Replace with the actual player name\n",
    "predicted_yards = predict_receiving_yards_by_name(player_name, df, regr)\n",
    "if predicted_yards is not None:\n",
    "    print(f\"Predicted receiving yards for {player_name}: {predicted_yards}\")\n"
   ]
  },
  {
   "cell_type": "code",
   "execution_count": 25,
   "id": "8a6fbb20",
   "metadata": {},
   "outputs": [
    {
     "name": "stdout",
     "output_type": "stream",
     "text": [
      "Predicted receiving yards for Mark Andrews: [48.98784464]\n"
     ]
    }
   ],
   "source": [
    "player_name = 'Mark Andrews'  # Replace with the actual player name\n",
    "predicted_yards = predict_receiving_yards_by_name(player_name, df, regr)\n",
    "if predicted_yards is not None:\n",
    "    print(f\"Predicted receiving yards for {player_name}: {predicted_yards}\")\n"
   ]
  },
  {
   "cell_type": "code",
   "execution_count": 26,
   "id": "9ce29210",
   "metadata": {},
   "outputs": [
    {
     "name": "stdout",
     "output_type": "stream",
     "text": [
      "Predicted receiving yards for Diontae Johnson: [50.46055013]\n"
     ]
    }
   ],
   "source": [
    "player_name = 'Diontae Johnson'  # Replace with the actual player name\n",
    "predicted_yards = predict_receiving_yards_by_name(player_name, df, regr)\n",
    "if predicted_yards is not None:\n",
    "    print(f\"Predicted receiving yards for {player_name}: {predicted_yards}\")\n"
   ]
  },
  {
   "cell_type": "code",
   "execution_count": 27,
   "id": "67ed9d58",
   "metadata": {},
   "outputs": [
    {
     "name": "stdout",
     "output_type": "stream",
     "text": [
      "Predicted receiving yards for Jaylen Waddle: [65.22968499]\n"
     ]
    }
   ],
   "source": [
    "player_name = 'Jaylen Waddle'  # Replace with the actual player name\n",
    "predicted_yards = predict_receiving_yards_by_name(player_name, df, regr)\n",
    "if predicted_yards is not None:\n",
    "    print(f\"Predicted receiving yards for {player_name}: {predicted_yards}\")\n"
   ]
  },
  {
   "cell_type": "code",
   "execution_count": 28,
   "id": "497710e1",
   "metadata": {},
   "outputs": [
    {
     "name": "stdout",
     "output_type": "stream",
     "text": [
      "Predicted receiving yards for CeeDee Lamb: [88.10203302]\n"
     ]
    }
   ],
   "source": [
    "player_name = 'CeeDee Lamb'  # Replace with the actual player name\n",
    "predicted_yards = predict_receiving_yards_by_name(player_name, df, regr)\n",
    "if predicted_yards is not None:\n",
    "    print(f\"Predicted receiving yards for {player_name}: {predicted_yards}\")\n"
   ]
  },
  {
   "cell_type": "code",
   "execution_count": 29,
   "id": "7a73a4d7",
   "metadata": {},
   "outputs": [
    {
     "name": "stdout",
     "output_type": "stream",
     "text": [
      "Predicted receiving yards for Ja'Marr Chase: [60.49649359]\n"
     ]
    }
   ],
   "source": [
    "player_name = \"Ja'Marr Chase\"  # Replace with the actual player name\n",
    "predicted_yards = predict_receiving_yards_by_name(player_name, df, regr)\n",
    "if predicted_yards is not None:\n",
    "    print(f\"Predicted receiving yards for {player_name}: {predicted_yards}\")\n"
   ]
  },
  {
   "cell_type": "code",
   "execution_count": 30,
   "id": "9b8e792a",
   "metadata": {},
   "outputs": [
    {
     "name": "stdout",
     "output_type": "stream",
     "text": [
      "Predicted receiving yards for Amon-Ra St. Brown: [70.29575311]\n"
     ]
    }
   ],
   "source": [
    "player_name = 'Amon-Ra St. Brown'  # Replace with the actual player name\n",
    "predicted_yards = predict_receiving_yards_by_name(player_name, df, regr)\n",
    "if predicted_yards is not None:\n",
    "    print(f\"Predicted receiving yards for {player_name}: {predicted_yards}\")\n"
   ]
  },
  {
   "cell_type": "code",
   "execution_count": 31,
   "id": "c43229be",
   "metadata": {},
   "outputs": [
    {
     "name": "stdout",
     "output_type": "stream",
     "text": [
      "Predicted receiving yards for Garrett Wilson: [62.37475478]\n"
     ]
    }
   ],
   "source": [
    "player_name = 'Garrett Wilson'  # Replace with the actual player name\n",
    "predicted_yards = predict_receiving_yards_by_name(player_name, df, regr)\n",
    "if predicted_yards is not None:\n",
    "    print(f\"Predicted receiving yards for {player_name}: {predicted_yards}\")\n"
   ]
  },
  {
   "cell_type": "code",
   "execution_count": 32,
   "id": "fdf5f988",
   "metadata": {},
   "outputs": [
    {
     "name": "stdout",
     "output_type": "stream",
     "text": [
      "Predicted receiving yards for Najee Harris: [14.64391913]\n"
     ]
    }
   ],
   "source": [
    "player_name = 'Najee Harris'  # Replace with the actual player name\n",
    "predicted_yards = predict_receiving_yards_by_name(player_name, df, regr)\n",
    "if predicted_yards is not None:\n",
    "    print(f\"Predicted receiving yards for {player_name}: {predicted_yards}\")\n"
   ]
  },
  {
   "cell_type": "code",
   "execution_count": 33,
   "id": "3c3c0fd2",
   "metadata": {},
   "outputs": [
    {
     "name": "stdout",
     "output_type": "stream",
     "text": [
      "Predicted receiving yards for George Pickens: [52.07732695]\n"
     ]
    }
   ],
   "source": [
    "player_name = 'George Pickens'  # Replace with the actual player name\n",
    "predicted_yards = predict_receiving_yards_by_name(player_name, df, regr)\n",
    "if predicted_yards is not None:\n",
    "    print(f\"Predicted receiving yards for {player_name}: {predicted_yards}\")\n"
   ]
  },
  {
   "cell_type": "code",
   "execution_count": 34,
   "id": "b79973c7",
   "metadata": {},
   "outputs": [
    {
     "name": "stdout",
     "output_type": "stream",
     "text": [
      "Predicted receiving yards for Pat Freiermuth: [32.08247112]\n"
     ]
    }
   ],
   "source": [
    "player_name = 'Pat Freiermuth'  # Replace with the actual player name\n",
    "predicted_yards = predict_receiving_yards_by_name(player_name, df, regr)\n",
    "if predicted_yards is not None:\n",
    "    print(f\"Predicted receiving yards for {player_name}: {predicted_yards}\")\n"
   ]
  },
  {
   "cell_type": "code",
   "execution_count": null,
   "id": "867abbb9",
   "metadata": {},
   "outputs": [],
   "source": []
  }
 ],
 "metadata": {
  "kernelspec": {
   "display_name": "Python 3 (ipykernel)",
   "language": "python",
   "name": "python3"
  },
  "language_info": {
   "codemirror_mode": {
    "name": "ipython",
    "version": 3
   },
   "file_extension": ".py",
   "mimetype": "text/x-python",
   "name": "python",
   "nbconvert_exporter": "python",
   "pygments_lexer": "ipython3",
   "version": "3.11.5"
  }
 },
 "nbformat": 4,
 "nbformat_minor": 5
}
